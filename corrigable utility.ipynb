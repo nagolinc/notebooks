{
 "cells": [
  {
   "cell_type": "code",
   "execution_count": 1,
   "id": "344d6679",
   "metadata": {},
   "outputs": [],
   "source": [
    "def reachable_nodes(graph, initial_node, k):\n",
    "    visited = set()\n",
    "    queue = [(initial_node, 0)]\n",
    "\n",
    "    while queue:\n",
    "        current_node, current_depth = queue.pop(0)\n",
    "\n",
    "        if current_node not in visited and current_depth <= k:\n",
    "            visited.add(current_node)\n",
    "            if current_depth < k:\n",
    "                for link in graph:\n",
    "                    if link[0] == current_node:\n",
    "                        queue.append((link[1], current_depth + 1))\n",
    "\n",
    "    return visited"
   ]
  },
  {
   "cell_type": "code",
   "execution_count": 2,
   "id": "9cf8ee5f",
   "metadata": {},
   "outputs": [],
   "source": [
    "def max_utility_in_k_steps(graph, utility, initial_node, k):\n",
    "    reachable = reachable_nodes(graph, initial_node, k)\n",
    "    max_utility = 0\n",
    "\n",
    "    for node in reachable:\n",
    "        max_utility = max(max_utility, utility[node])\n",
    "\n",
    "    return max_utility"
   ]
  },
  {
   "cell_type": "code",
   "execution_count": 22,
   "id": "d2ee5490",
   "metadata": {},
   "outputs": [],
   "source": [
    "def max_corrigable_score(graph, utility, initial_node, k, l,verbose=False):\n",
    "    def reachable_nodes_k(graph, initial_node, k):\n",
    "        visited = set()\n",
    "        queue = [(initial_node, 0)]\n",
    "\n",
    "        while queue:\n",
    "            current_node, current_depth = queue.pop(0)\n",
    "\n",
    "            if current_node not in visited and current_depth <= k:\n",
    "                visited.add(current_node)\n",
    "                if current_depth < k:\n",
    "                    for link in graph:\n",
    "                        if link[0] == current_node:\n",
    "                            queue.append((link[1], current_depth + 1))\n",
    "\n",
    "        return visited\n",
    "\n",
    "    max_score = -float('inf')\n",
    "    best_utility=None\n",
    "    best_reachability=None\n",
    "\n",
    "    for k0 in range(k + 1):\n",
    "        reachable = reachable_nodes_k(graph, initial_node, k0)\n",
    "        for node in reachable:\n",
    "            remaining_reachable = len(reachable_nodes_k(graph, node, k - k0))\n",
    "            current_score = (1 - l) * utility[node] + l * remaining_reachable\n",
    "            if current_score>max_score:\n",
    "                if verbose:\n",
    "                    print(\"new best score\",k0,node,utility[node],remaining_reachable,current_score)\n",
    "                best_utility=utility[node]\n",
    "                best_reachability=remaining_reachable\n",
    "            max_score = max(max_score, current_score)\n",
    "\n",
    "    return max_score, best_utility, best_reachability"
   ]
  },
  {
   "cell_type": "code",
   "execution_count": 4,
   "id": "83a02df6",
   "metadata": {},
   "outputs": [],
   "source": [
    "graph=[(i,j) for i in range(5) for j in range(5)]+[(2,5),(5,6),(6,7),(7,8),(8,9),(9,10),(10,3)]\n",
    "utility={i:i for i in range(11)}"
   ]
  },
  {
   "cell_type": "code",
   "execution_count": 7,
   "id": "487d217f",
   "metadata": {},
   "outputs": [
    {
     "data": {
      "text/plain": [
       "{0, 1, 2, 3, 4, 5}"
      ]
     },
     "execution_count": 7,
     "metadata": {},
     "output_type": "execute_result"
    }
   ],
   "source": [
    "reachable_nodes(graph,0,2)"
   ]
  },
  {
   "cell_type": "code",
   "execution_count": 11,
   "id": "65ee2543",
   "metadata": {},
   "outputs": [
    {
     "data": {
      "text/plain": [
       "5"
      ]
     },
     "execution_count": 11,
     "metadata": {},
     "output_type": "execute_result"
    }
   ],
   "source": [
    "max_utility_in_k_steps(graph,utility,initial_node=0,k=2)"
   ]
  },
  {
   "cell_type": "code",
   "execution_count": 17,
   "id": "08ec600e",
   "metadata": {},
   "outputs": [
    {
     "name": "stdout",
     "output_type": "stream",
     "text": [
      "new best score 0 0 9 8.91\n",
      "new best score 1 2 9 8.93\n"
     ]
    },
    {
     "data": {
      "text/plain": [
       "8.93"
      ]
     },
     "execution_count": 17,
     "metadata": {},
     "output_type": "execute_result"
    }
   ],
   "source": [
    "max_corrigable_score(graph, utility, initial_node=0, k=5, l=0.99)"
   ]
  },
  {
   "cell_type": "code",
   "execution_count": 27,
   "id": "f29881af",
   "metadata": {},
   "outputs": [],
   "source": [
    "import numpy as np\n",
    "scores=[max_corrigable_score(graph, utility, initial_node=0, k=5, l=l) for l in np.linspace(0,1,100)]"
   ]
  },
  {
   "cell_type": "code",
   "execution_count": 24,
   "id": "7e27e21c",
   "metadata": {},
   "outputs": [],
   "source": [
    "import matplotlib.pyplot as plt"
   ]
  },
  {
   "cell_type": "code",
   "execution_count": 28,
   "id": "27b63f8a",
   "metadata": {},
   "outputs": [],
   "source": [
    "l=np.linspace(0,1,100)\n",
    "score=[score for score, utility, reachability in scores]\n",
    "u=[utility for score, utility, reachability in scores]\n",
    "r=[reachability for score, utility, reachability in scores]"
   ]
  },
  {
   "cell_type": "code",
   "execution_count": 35,
   "id": "16ac9784",
   "metadata": {},
   "outputs": [
    {
     "data": {
      "image/png": "[encoded data removed]",
      "text/plain": [
       "<Figure size 640x480 with 1 Axes>"
      ]
     },
     "metadata": {},
     "output_type": "display_data"
    }
   ],
   "source": [
    "\n",
    "# Create a dictionary to store the first label for each unique point\n",
    "point_labels = {}\n",
    "for i in range(len(u)):\n",
    "    point = (u[i], r[i])\n",
    "    if point not in point_labels:\n",
    "        point_labels[point] = str(l[i])[:4]\n",
    "\n",
    "# Plot lines between points\n",
    "plt.plot(u, r, linestyle='-', marker='o', markersize=5)\n",
    "\n",
    "# Add the first label to each unique point\n",
    "for point, label in point_labels.items():\n",
    "    plt.text(point[0], point[1], \"λ=\"+label)\n",
    "\n",
    "plt.xlabel('Utility')\n",
    "plt.ylabel('Reachability')\n",
    "plt.show()"
   ]
  },
  {
   "cell_type": "code",
   "execution_count": null,
   "id": "5654982b",
   "metadata": {},
   "outputs": [],
   "source": []
  }
 ],
 "metadata": {
  "kernelspec": {
   "display_name": "Python 3 (ipykernel)",
   "language": "python",
   "name": "python3"
  },
  "language_info": {
   "codemirror_mode": {
    "name": "ipython",
    "version": 3
   },
   "file_extension": ".py",
   "mimetype": "text/x-python",
   "name": "python",
   "nbconvert_exporter": "python",
   "pygments_lexer": "ipython3",
   "version": "3.10.6"
  }
 },
 "nbformat": 4,
 "nbformat_minor": 5
}
