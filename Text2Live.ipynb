{
  "nbformat": 4,
  "nbformat_minor": 0,
  "metadata": {
    "colab": {
      "name": "Text2Live",
      "provenance": [],
      "collapsed_sections": [],
      "machine_shape": "hm",
      "authorship_tag": "ABX9TyNJUmdI8DEhi24XAGYvnoIA",
      "include_colab_link": true
    },
    "kernelspec": {
      "name": "python3",
      "display_name": "Python 3"
    },
    "language_info": {
      "name": "python"
    },
    "accelerator": "GPU",
    "gpuClass": "standard"
  },
  "cells": [
    {
      "cell_type": "markdown",
      "metadata": {
        "id": "view-in-github",
        "colab_type": "text"
      },
      "source": [
        "<a href=\"https://colab.research.google.com/github/nagolinc/notebooks/blob/main/Text2Live.ipynb\" target=\"_parent\"><img src=\"https://colab.research.google.com/assets/colab-badge.svg\" alt=\"Open In Colab\"/></a>"
      ]
    },
    {
      "cell_type": "code",
      "execution_count": 1,
      "metadata": {
        "colab": {
          "base_uri": "https://localhost:8080/"
        },
        "id": "YQWAWGifU9IO",
        "outputId": "80e33445-8d1f-4f56-d800-ac34857d415f"
      },
      "outputs": [
        {
          "output_type": "stream",
          "name": "stdout",
          "text": [
            "Cloning into 'Text2LIVE'...\n",
            "remote: Enumerating objects: 105, done.\u001b[K\n",
            "remote: Counting objects: 100% (105/105), done.\u001b[K\n",
            "remote: Compressing objects: 100% (68/68), done.\u001b[K\n",
            "remote: Total 105 (delta 40), reused 96 (delta 31), pack-reused 0\u001b[K\n",
            "Receiving objects: 100% (105/105), 1.59 MiB | 9.36 MiB/s, done.\n",
            "Resolving deltas: 100% (40/40), done.\n"
          ]
        }
      ],
      "source": [
        "!git clone https://github.com/omerbt/Text2LIVE.git\n"
      ]
    },
    {
      "cell_type": "code",
      "source": [
        "cd Text2LIVE"
      ],
      "metadata": {
        "colab": {
          "base_uri": "https://localhost:8080/"
        },
        "id": "fG5QtprCVDwH",
        "outputId": "e506598f-c76f-46d2-cd9a-8a979ceafc86"
      },
      "execution_count": 2,
      "outputs": [
        {
          "output_type": "stream",
          "name": "stdout",
          "text": [
            "/content/Text2LIVE\n"
          ]
        }
      ]
    },
    {
      "cell_type": "code",
      "source": [
        "!pip install -r requirements.txt"
      ],
      "metadata": {
        "colab": {
          "base_uri": "https://localhost:8080/"
        },
        "id": "lpaai3yAVXIe",
        "outputId": "f816bd01-e5e2-40bb-c781-af1ee4a00a39"
      },
      "execution_count": 3,
      "outputs": [
        {
          "output_type": "stream",
          "name": "stdout",
          "text": [
            "Looking in indexes: https://pypi.org/simple, https://us-python.pkg.dev/colab-wheels/public/simple/\n",
            "Requirement already satisfied: pillow in /usr/local/lib/python3.7/dist-packages (from -r requirements.txt (line 1)) (7.1.2)\n",
            "Collecting torch~=1.10.0\n",
            "  Downloading torch-1.10.2-cp37-cp37m-manylinux1_x86_64.whl (881.9 MB)\n",
            "\u001b[K     |██████████████████████████████▎ | 834.1 MB 62.5 MB/s eta 0:00:01tcmalloc: large alloc 1147494400 bytes == 0x39166000 @  0x7f795bfc2615 0x592b76 0x4df71e 0x59afff 0x515655 0x549576 0x593fce 0x548ae9 0x51566f 0x549576 0x593fce 0x548ae9 0x5127f1 0x598e3b 0x511f68 0x598e3b 0x511f68 0x598e3b 0x511f68 0x4bc98a 0x532e76 0x594b72 0x515600 0x549576 0x593fce 0x548ae9 0x5127f1 0x549576 0x593fce 0x5118f8 0x593dd7\n",
            "\u001b[K     |████████████████████████████████| 881.9 MB 1.7 kB/s \n",
            "\u001b[?25hCollecting torchvision~=0.11.2\n",
            "  Downloading torchvision-0.11.3-cp37-cp37m-manylinux1_x86_64.whl (23.2 MB)\n",
            "\u001b[K     |████████████████████████████████| 23.2 MB 149 kB/s \n",
            "\u001b[?25hRequirement already satisfied: tqdm in /usr/local/lib/python3.7/dist-packages (from -r requirements.txt (line 4)) (4.64.0)\n",
            "Requirement already satisfied: numpy in /usr/local/lib/python3.7/dist-packages (from -r requirements.txt (line 5)) (1.21.6)\n",
            "Collecting ftfy\n",
            "  Downloading ftfy-6.1.1-py3-none-any.whl (53 kB)\n",
            "\u001b[K     |████████████████████████████████| 53 kB 1.8 MB/s \n",
            "\u001b[?25hRequirement already satisfied: regex in /usr/local/lib/python3.7/dist-packages (from -r requirements.txt (line 7)) (2022.6.2)\n",
            "Collecting madgrad~=1.1\n",
            "  Downloading madgrad-1.2-py3-none-any.whl (11 kB)\n",
            "Requirement already satisfied: scipy in /usr/local/lib/python3.7/dist-packages (from -r requirements.txt (line 9)) (1.7.3)\n",
            "Requirement already satisfied: imageio in /usr/local/lib/python3.7/dist-packages (from -r requirements.txt (line 10)) (2.9.0)\n",
            "Collecting imageio-ffmpeg\n",
            "  Downloading imageio_ffmpeg-0.4.7-py3-none-manylinux2010_x86_64.whl (26.9 MB)\n",
            "\u001b[K     |████████████████████████████████| 26.9 MB 1.2 MB/s \n",
            "\u001b[?25hRequirement already satisfied: pyyaml in /usr/local/lib/python3.7/dist-packages (from -r requirements.txt (line 12)) (3.13)\n",
            "Requirement already satisfied: gdown in /usr/local/lib/python3.7/dist-packages (from -r requirements.txt (line 13)) (4.4.0)\n",
            "Requirement already satisfied: typing-extensions in /usr/local/lib/python3.7/dist-packages (from torch~=1.10.0->-r requirements.txt (line 2)) (4.1.1)\n",
            "Requirement already satisfied: wcwidth>=0.2.5 in /usr/local/lib/python3.7/dist-packages (from ftfy->-r requirements.txt (line 6)) (0.2.5)\n",
            "Requirement already satisfied: beautifulsoup4 in /usr/local/lib/python3.7/dist-packages (from gdown->-r requirements.txt (line 13)) (4.6.3)\n",
            "Requirement already satisfied: requests[socks] in /usr/local/lib/python3.7/dist-packages (from gdown->-r requirements.txt (line 13)) (2.23.0)\n",
            "Requirement already satisfied: filelock in /usr/local/lib/python3.7/dist-packages (from gdown->-r requirements.txt (line 13)) (3.7.1)\n",
            "Requirement already satisfied: six in /usr/local/lib/python3.7/dist-packages (from gdown->-r requirements.txt (line 13)) (1.15.0)\n",
            "Requirement already satisfied: idna<3,>=2.5 in /usr/local/lib/python3.7/dist-packages (from requests[socks]->gdown->-r requirements.txt (line 13)) (2.10)\n",
            "Requirement already satisfied: certifi>=2017.4.17 in /usr/local/lib/python3.7/dist-packages (from requests[socks]->gdown->-r requirements.txt (line 13)) (2022.6.15)\n",
            "Requirement already satisfied: urllib3!=1.25.0,!=1.25.1,<1.26,>=1.21.1 in /usr/local/lib/python3.7/dist-packages (from requests[socks]->gdown->-r requirements.txt (line 13)) (1.24.3)\n",
            "Requirement already satisfied: chardet<4,>=3.0.2 in /usr/local/lib/python3.7/dist-packages (from requests[socks]->gdown->-r requirements.txt (line 13)) (3.0.4)\n",
            "Requirement already satisfied: PySocks!=1.5.7,>=1.5.6 in /usr/local/lib/python3.7/dist-packages (from requests[socks]->gdown->-r requirements.txt (line 13)) (1.7.1)\n",
            "Installing collected packages: torch, torchvision, madgrad, imageio-ffmpeg, ftfy\n",
            "  Attempting uninstall: torch\n",
            "    Found existing installation: torch 1.12.0+cu113\n",
            "    Uninstalling torch-1.12.0+cu113:\n",
            "      Successfully uninstalled torch-1.12.0+cu113\n",
            "  Attempting uninstall: torchvision\n",
            "    Found existing installation: torchvision 0.13.0+cu113\n",
            "    Uninstalling torchvision-0.13.0+cu113:\n",
            "      Successfully uninstalled torchvision-0.13.0+cu113\n",
            "\u001b[31mERROR: pip's dependency resolver does not currently take into account all the packages that are installed. This behaviour is the source of the following dependency conflicts.\n",
            "torchtext 0.13.0 requires torch==1.12.0, but you have torch 1.10.2 which is incompatible.\n",
            "torchaudio 0.12.0+cu113 requires torch==1.12.0, but you have torch 1.10.2 which is incompatible.\u001b[0m\n",
            "Successfully installed ftfy-6.1.1 imageio-ffmpeg-0.4.7 madgrad-1.2 torch-1.10.2 torchvision-0.11.3\n"
          ]
        }
      ]
    },
    {
      "cell_type": "code",
      "source": [
        "!gdown https://drive.google.com/uc?id=1osN4PlPkY9uk6pFqJZo8lhJUjTIpa80J&export=download\n",
        "!unzip data.zip"
      ],
      "metadata": {
        "colab": {
          "base_uri": "https://localhost:8080/"
        },
        "id": "hJe6jcGmVYeX",
        "outputId": "25f6895e-3264-4ee2-a5cf-f1abcb69a042"
      },
      "execution_count": 4,
      "outputs": [
        {
          "output_type": "stream",
          "name": "stdout",
          "text": [
            "Downloading...\n",
            "From: https://drive.google.com/uc?id=1osN4PlPkY9uk6pFqJZo8lhJUjTIpa80J\n",
            "To: /content/Text2LIVE/data.zip\n",
            "100% 79.0M/79.0M [00:00<00:00, 209MB/s]\n",
            "Archive:  data.zip\n",
            "   creating: data/\n",
            "   creating: data/images/\n",
            "  inflating: data/images/cake.jpeg   \n",
            "  inflating: data/images/horse.jpg   \n",
            "  inflating: data/images/Thumbs.db   \n",
            "   creating: data/pretrained_nla_models/\n",
            "   creating: data/pretrained_nla_models/blackswan/\n",
            "  inflating: data/pretrained_nla_models/blackswan/checkpoint  \n",
            "   creating: data/pretrained_nla_models/car-turn/\n",
            "  inflating: data/pretrained_nla_models/car-turn/checkpoint  \n",
            "   creating: data/pretrained_nla_models/libby/\n",
            "  inflating: data/pretrained_nla_models/libby/checkpoint  \n",
            "   creating: data/videos/\n",
            "   creating: data/videos/blackswan/\n",
            "  inflating: data/videos/blackswan/00000.jpg  \n",
            "  inflating: data/videos/blackswan/00001.jpg  \n",
            "  inflating: data/videos/blackswan/00002.jpg  \n",
            "  inflating: data/videos/blackswan/00003.jpg  \n",
            "  inflating: data/videos/blackswan/00004.jpg  \n",
            "  inflating: data/videos/blackswan/00005.jpg  \n",
            "  inflating: data/videos/blackswan/00006.jpg  \n",
            "  inflating: data/videos/blackswan/00007.jpg  \n",
            "  inflating: data/videos/blackswan/00008.jpg  \n",
            "  inflating: data/videos/blackswan/00009.jpg  \n",
            "  inflating: data/videos/blackswan/00010.jpg  \n",
            "  inflating: data/videos/blackswan/00011.jpg  \n",
            "  inflating: data/videos/blackswan/00012.jpg  \n",
            "  inflating: data/videos/blackswan/00013.jpg  \n",
            "  inflating: data/videos/blackswan/00014.jpg  \n",
            "  inflating: data/videos/blackswan/00015.jpg  \n",
            "  inflating: data/videos/blackswan/00016.jpg  \n",
            "  inflating: data/videos/blackswan/00017.jpg  \n",
            "  inflating: data/videos/blackswan/00018.jpg  \n",
            "  inflating: data/videos/blackswan/00019.jpg  \n",
            "  inflating: data/videos/blackswan/00020.jpg  \n",
            "  inflating: data/videos/blackswan/00021.jpg  \n",
            "  inflating: data/videos/blackswan/00022.jpg  \n",
            "  inflating: data/videos/blackswan/00023.jpg  \n",
            "  inflating: data/videos/blackswan/00024.jpg  \n",
            "  inflating: data/videos/blackswan/00025.jpg  \n",
            "  inflating: data/videos/blackswan/00026.jpg  \n",
            "  inflating: data/videos/blackswan/00027.jpg  \n",
            "  inflating: data/videos/blackswan/00028.jpg  \n",
            "  inflating: data/videos/blackswan/00029.jpg  \n",
            "  inflating: data/videos/blackswan/00030.jpg  \n",
            "  inflating: data/videos/blackswan/00031.jpg  \n",
            "  inflating: data/videos/blackswan/00032.jpg  \n",
            "  inflating: data/videos/blackswan/00033.jpg  \n",
            "  inflating: data/videos/blackswan/00034.jpg  \n",
            "  inflating: data/videos/blackswan/00035.jpg  \n",
            "  inflating: data/videos/blackswan/00036.jpg  \n",
            "  inflating: data/videos/blackswan/00037.jpg  \n",
            "  inflating: data/videos/blackswan/00038.jpg  \n",
            "  inflating: data/videos/blackswan/00039.jpg  \n",
            "  inflating: data/videos/blackswan/00040.jpg  \n",
            "  inflating: data/videos/blackswan/00041.jpg  \n",
            "  inflating: data/videos/blackswan/00042.jpg  \n",
            "  inflating: data/videos/blackswan/00043.jpg  \n",
            "  inflating: data/videos/blackswan/00044.jpg  \n",
            "  inflating: data/videos/blackswan/00045.jpg  \n",
            "  inflating: data/videos/blackswan/00046.jpg  \n",
            "  inflating: data/videos/blackswan/00047.jpg  \n",
            "  inflating: data/videos/blackswan/00048.jpg  \n",
            "  inflating: data/videos/blackswan/00049.jpg  \n",
            "   creating: data/videos/car-turn/\n",
            "  inflating: data/videos/car-turn/00000.jpg  \n",
            "  inflating: data/videos/car-turn/00001.jpg  \n",
            "  inflating: data/videos/car-turn/00002.jpg  \n",
            "  inflating: data/videos/car-turn/00003.jpg  \n",
            "  inflating: data/videos/car-turn/00004.jpg  \n",
            "  inflating: data/videos/car-turn/00005.jpg  \n",
            "  inflating: data/videos/car-turn/00006.jpg  \n",
            "  inflating: data/videos/car-turn/00007.jpg  \n",
            "  inflating: data/videos/car-turn/00008.jpg  \n",
            "  inflating: data/videos/car-turn/00009.jpg  \n",
            "  inflating: data/videos/car-turn/00010.jpg  \n",
            "  inflating: data/videos/car-turn/00011.jpg  \n",
            "  inflating: data/videos/car-turn/00012.jpg  \n",
            "  inflating: data/videos/car-turn/00013.jpg  \n",
            "  inflating: data/videos/car-turn/00014.jpg  \n",
            "  inflating: data/videos/car-turn/00015.jpg  \n",
            "  inflating: data/videos/car-turn/00016.jpg  \n",
            "  inflating: data/videos/car-turn/00017.jpg  \n",
            "  inflating: data/videos/car-turn/00018.jpg  \n",
            "  inflating: data/videos/car-turn/00019.jpg  \n",
            "  inflating: data/videos/car-turn/00020.jpg  \n",
            "  inflating: data/videos/car-turn/00021.jpg  \n",
            "  inflating: data/videos/car-turn/00022.jpg  \n",
            "  inflating: data/videos/car-turn/00023.jpg  \n",
            "  inflating: data/videos/car-turn/00024.jpg  \n",
            "  inflating: data/videos/car-turn/00025.jpg  \n",
            "  inflating: data/videos/car-turn/00026.jpg  \n",
            "  inflating: data/videos/car-turn/00027.jpg  \n",
            "  inflating: data/videos/car-turn/00028.jpg  \n",
            "  inflating: data/videos/car-turn/00029.jpg  \n",
            "  inflating: data/videos/car-turn/00030.jpg  \n",
            "  inflating: data/videos/car-turn/00031.jpg  \n",
            "  inflating: data/videos/car-turn/00032.jpg  \n",
            "  inflating: data/videos/car-turn/00033.jpg  \n",
            "  inflating: data/videos/car-turn/00034.jpg  \n",
            "  inflating: data/videos/car-turn/00035.jpg  \n",
            "  inflating: data/videos/car-turn/00036.jpg  \n",
            "  inflating: data/videos/car-turn/00037.jpg  \n",
            "  inflating: data/videos/car-turn/00038.jpg  \n",
            "  inflating: data/videos/car-turn/00039.jpg  \n",
            "  inflating: data/videos/car-turn/00040.jpg  \n",
            "  inflating: data/videos/car-turn/00041.jpg  \n",
            "  inflating: data/videos/car-turn/00042.jpg  \n",
            "  inflating: data/videos/car-turn/00043.jpg  \n",
            "  inflating: data/videos/car-turn/00044.jpg  \n",
            "  inflating: data/videos/car-turn/00045.jpg  \n",
            "  inflating: data/videos/car-turn/00046.jpg  \n",
            "  inflating: data/videos/car-turn/00047.jpg  \n",
            "  inflating: data/videos/car-turn/00048.jpg  \n",
            "  inflating: data/videos/car-turn/00049.jpg  \n",
            "  inflating: data/videos/car-turn/00050.jpg  \n",
            "  inflating: data/videos/car-turn/00051.jpg  \n",
            "  inflating: data/videos/car-turn/00052.jpg  \n",
            "  inflating: data/videos/car-turn/00053.jpg  \n",
            "  inflating: data/videos/car-turn/00054.jpg  \n",
            "  inflating: data/videos/car-turn/00055.jpg  \n",
            "  inflating: data/videos/car-turn/00056.jpg  \n",
            "  inflating: data/videos/car-turn/00057.jpg  \n",
            "  inflating: data/videos/car-turn/00058.jpg  \n",
            "  inflating: data/videos/car-turn/00059.jpg  \n",
            "  inflating: data/videos/car-turn/00060.jpg  \n",
            "  inflating: data/videos/car-turn/00061.jpg  \n",
            "  inflating: data/videos/car-turn/00062.jpg  \n",
            "  inflating: data/videos/car-turn/00063.jpg  \n",
            "  inflating: data/videos/car-turn/00064.jpg  \n",
            "  inflating: data/videos/car-turn/00065.jpg  \n",
            "  inflating: data/videos/car-turn/00066.jpg  \n",
            "  inflating: data/videos/car-turn/00067.jpg  \n",
            "  inflating: data/videos/car-turn/00068.jpg  \n",
            "  inflating: data/videos/car-turn/00069.jpg  \n",
            "  inflating: data/videos/car-turn/00070.jpg  \n",
            "  inflating: data/videos/car-turn/00071.jpg  \n",
            "  inflating: data/videos/car-turn/00072.jpg  \n",
            "  inflating: data/videos/car-turn/00073.jpg  \n",
            "  inflating: data/videos/car-turn/00074.jpg  \n",
            "  inflating: data/videos/car-turn/00075.jpg  \n",
            "  inflating: data/videos/car-turn/00076.jpg  \n",
            "  inflating: data/videos/car-turn/00077.jpg  \n",
            "  inflating: data/videos/car-turn/00078.jpg  \n",
            "  inflating: data/videos/car-turn/00079.jpg  \n",
            "   creating: data/videos/libby/\n",
            "  inflating: data/videos/libby/00000.jpg  \n",
            "  inflating: data/videos/libby/00001.jpg  \n",
            "  inflating: data/videos/libby/00002.jpg  \n",
            "  inflating: data/videos/libby/00003.jpg  \n",
            "  inflating: data/videos/libby/00004.jpg  \n",
            "  inflating: data/videos/libby/00005.jpg  \n",
            "  inflating: data/videos/libby/00006.jpg  \n",
            "  inflating: data/videos/libby/00007.jpg  \n",
            "  inflating: data/videos/libby/00008.jpg  \n",
            "  inflating: data/videos/libby/00009.jpg  \n",
            "  inflating: data/videos/libby/00010.jpg  \n",
            "  inflating: data/videos/libby/00011.jpg  \n",
            "  inflating: data/videos/libby/00012.jpg  \n",
            "  inflating: data/videos/libby/00013.jpg  \n",
            "  inflating: data/videos/libby/00014.jpg  \n",
            "  inflating: data/videos/libby/00015.jpg  \n",
            "  inflating: data/videos/libby/00016.jpg  \n",
            "  inflating: data/videos/libby/00017.jpg  \n",
            "  inflating: data/videos/libby/00018.jpg  \n",
            "  inflating: data/videos/libby/00019.jpg  \n",
            "  inflating: data/videos/libby/00020.jpg  \n",
            "  inflating: data/videos/libby/00021.jpg  \n",
            "  inflating: data/videos/libby/00022.jpg  \n",
            "  inflating: data/videos/libby/00023.jpg  \n",
            "  inflating: data/videos/libby/00024.jpg  \n",
            "  inflating: data/videos/libby/00025.jpg  \n",
            "  inflating: data/videos/libby/00026.jpg  \n",
            "  inflating: data/videos/libby/00027.jpg  \n",
            "  inflating: data/videos/libby/00028.jpg  \n",
            "  inflating: data/videos/libby/00029.jpg  \n",
            "  inflating: data/videos/libby/00030.jpg  \n",
            "  inflating: data/videos/libby/00031.jpg  \n",
            "  inflating: data/videos/libby/00032.jpg  \n",
            "  inflating: data/videos/libby/00033.jpg  \n",
            "  inflating: data/videos/libby/00034.jpg  \n",
            "  inflating: data/videos/libby/00035.jpg  \n",
            "  inflating: data/videos/libby/00036.jpg  \n",
            "  inflating: data/videos/libby/00037.jpg  \n",
            "  inflating: data/videos/libby/00038.jpg  \n",
            "  inflating: data/videos/libby/00039.jpg  \n",
            "  inflating: data/videos/libby/00040.jpg  \n",
            "  inflating: data/videos/libby/00041.jpg  \n",
            "  inflating: data/videos/libby/00042.jpg  \n",
            "  inflating: data/videos/libby/00043.jpg  \n",
            "  inflating: data/videos/libby/00044.jpg  \n",
            "  inflating: data/videos/libby/00045.jpg  \n",
            "  inflating: data/videos/libby/00046.jpg  \n",
            "  inflating: data/videos/libby/00047.jpg  \n",
            "  inflating: data/videos/libby/00048.jpg  \n"
          ]
        }
      ]
    },
    {
      "cell_type": "code",
      "source": [
        "#!python train_image.py --example_config golden_horse.yaml"
      ],
      "metadata": {
        "colab": {
          "base_uri": "https://localhost:8080/"
        },
        "id": "tw15mgdzV3YP",
        "outputId": "f9400776-a421-462e-9624-d8278a391b2e"
      },
      "execution_count": 5,
      "outputs": [
        {
          "output_type": "stream",
          "name": "stdout",
          "text": [
            "running with seed: 319910151.\n",
            "100%|███████████████████████████████████████| 338M/338M [00:06<00:00, 52.1MiB/s]\n",
            "/usr/local/lib/python3.7/dist-packages/torchvision/transforms/transforms.py:288: UserWarning: Argument interpolation should be of type InterpolationMode instead of int. Please, use InterpolationMode enum.\n",
            "  \"Argument interpolation should be of type InterpolationMode instead of int. \"\n",
            "  0% 0/1000 [00:00<?, ?it/s]/usr/local/lib/python3.7/dist-packages/torch/nn/functional.py:3635: UserWarning: Default upsampling behavior when mode=bilinear is changed to align_corners=False since 0.4.0. Please specify align_corners=True if the old behavior is desired. See the documentation of nn.Upsample for details.\n",
            "  \"See the documentation of nn.Upsample for details.\".format(mode)\n",
            "/usr/local/lib/python3.7/dist-packages/torch/nn/functional.py:3635: UserWarning: Default upsampling behavior when mode=bicubic is changed to align_corners=False since 0.4.0. Please specify align_corners=True if the old behavior is desired. See the documentation of nn.Upsample for details.\n",
            "  \"See the documentation of nn.Upsample for details.\".format(mode)\n",
            "/usr/local/lib/python3.7/dist-packages/torch/nn/functional.py:3680: UserWarning: The default behavior for interpolate/upsample with float scale_factor changed in 1.6.0 to align with other frameworks/libraries, and now uses scale_factor directly, instead of relying on the computed output size. If you wish to restore the old behavior, please set recompute_scale_factor=True. See the documentation of nn.Upsample for details. \n",
            "  \"The default behavior for interpolate/upsample with float scale_factor changed \"\n",
            "100% 1000/1000 [14:23<00:00,  1.16it/s]\n"
          ]
        }
      ]
    },
    {
      "cell_type": "code",
      "source": [
        "#@markdown path to the input image\n",
        "image_path= \"./data/images/horse.jpg\" #@param{type: 'string'}\n",
        "\n",
        "#@markdown describe the edit layer\n",
        "screen_text= \"zebra\" #@param{type: 'string'}\n",
        "#@markdown texts, describing the full edited image\n",
        "comp_text= \"zebra\" #@param{type: 'string'}\n",
        "#@markdown texts, describing the input image\n",
        "src_text= \"horse\" #@param{type: 'string'}\n",
        "#@markdown text, describing the region of interest in the input image\n",
        "bootstrap_text= \"horse\" #@param{type: 'string'}\n",
        "#@markdown number of epochs for bootstrapping (it is annealed during training)\n",
        "bootstrap_epoch= 1000 #@param{type: 'number'}"
      ],
      "metadata": {
        "id": "ib_V0bCeWCaf"
      },
      "execution_count": 6,
      "outputs": []
    },
    {
      "cell_type": "code",
      "source": [
        "with open(\"configs/image_example_configs/my_config.yaml\",'w') as f:\n",
        "  f.write(f'''\n",
        "image_path: \"{image_path}\" # path to the input image\n",
        "\n",
        "screen_text: \"{screen_text}\" # texts, describing the edit layer\n",
        "comp_text: \"{comp_text}\" # texts, describing the full edited image\n",
        "src_text: \"{src_text}\" # texts, describing the input image\n",
        "\n",
        "bootstrap_text: \"{bootstrap_text}\" # text, describing the region of interest in the input image\n",
        "bootstrap_epoch: {bootstrap_epoch} # number of epochs for bootstrapping (it is annealed during training)\n",
        "'''  )"
      ],
      "metadata": {
        "id": "MYxV-vlaXx98"
      },
      "execution_count": 7,
      "outputs": []
    },
    {
      "cell_type": "code",
      "source": [
        "!python train_image.py --example_config my_config.yaml"
      ],
      "metadata": {
        "colab": {
          "base_uri": "https://localhost:8080/"
        },
        "id": "usSJanbPYWhD",
        "outputId": "0ac1c458-4f35-4e1e-e97a-42fae0f0ffb6"
      },
      "execution_count": 8,
      "outputs": [
        {
          "output_type": "stream",
          "name": "stdout",
          "text": [
            "running with seed: 4220116089.\n",
            "/usr/local/lib/python3.7/dist-packages/torchvision/transforms/transforms.py:288: UserWarning: Argument interpolation should be of type InterpolationMode instead of int. Please, use InterpolationMode enum.\n",
            "  \"Argument interpolation should be of type InterpolationMode instead of int. \"\n",
            "  0% 0/1000 [00:00<?, ?it/s]/usr/local/lib/python3.7/dist-packages/torch/nn/functional.py:3635: UserWarning: Default upsampling behavior when mode=bilinear is changed to align_corners=False since 0.4.0. Please specify align_corners=True if the old behavior is desired. See the documentation of nn.Upsample for details.\n",
            "  \"See the documentation of nn.Upsample for details.\".format(mode)\n",
            "/usr/local/lib/python3.7/dist-packages/torch/nn/functional.py:3635: UserWarning: Default upsampling behavior when mode=bicubic is changed to align_corners=False since 0.4.0. Please specify align_corners=True if the old behavior is desired. See the documentation of nn.Upsample for details.\n",
            "  \"See the documentation of nn.Upsample for details.\".format(mode)\n",
            "/usr/local/lib/python3.7/dist-packages/torch/nn/functional.py:3680: UserWarning: The default behavior for interpolate/upsample with float scale_factor changed in 1.6.0 to align with other frameworks/libraries, and now uses scale_factor directly, instead of relying on the computed output size. If you wish to restore the old behavior, please set recompute_scale_factor=True. See the documentation of nn.Upsample for details. \n",
            "  \"The default behavior for interpolate/upsample with float scale_factor changed \"\n",
            "100% 1000/1000 [14:36<00:00,  1.14it/s]\n"
          ]
        }
      ]
    }
  ]
}