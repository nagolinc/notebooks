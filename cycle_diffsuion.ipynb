{
  "nbformat": 4,
  "nbformat_minor": 0,
  "metadata": {
    "colab": {
      "provenance": [],
      "collapsed_sections": [],
      "mount_file_id": "1v7y5YcM4fUAyHn-a59vxRLRfvgsv2X8P",
      "authorship_tag": "ABX9TyMKkOFQRKrYrukv50/B3JXO",
      "include_colab_link": true
    },
    "kernelspec": {
      "name": "python3",
      "display_name": "Python 3"
    },
    "language_info": {
      "name": "python"
    },
    "accelerator": "GPU",
    "gpuClass": "premium"
  },
  "cells": [
    {
      "cell_type": "markdown",
      "metadata": {
        "id": "view-in-github",
        "colab_type": "text"
      },
      "source": [
        "<a href=\"https://colab.research.google.com/github/nagolinc/notebooks/blob/main/cycle_diffsuion.ipynb\" target=\"_parent\"><img src=\"https://colab.research.google.com/assets/colab-badge.svg\" alt=\"Open In Colab\"/></a>"
      ]
    },
    {
      "cell_type": "code",
      "source": [
        "!nvidia-smi"
      ],
      "metadata": {
        "id": "gUDnq8sbcEGs"
      },
      "execution_count": null,
      "outputs": []
    },
    {
      "cell_type": "code",
      "source": [
        "!pip install wandb"
      ],
      "metadata": {
        "id": "3SR7XERbDBHX"
      },
      "execution_count": null,
      "outputs": []
    },
    {
      "cell_type": "code",
      "source": [
        "!wandb login"
      ],
      "metadata": {
        "id": "fwtNEv5YC2an"
      },
      "execution_count": null,
      "outputs": []
    },
    {
      "cell_type": "markdown",
      "source": [
        "# you will need to create a project in wandb and edit these variables!"
      ],
      "metadata": {
        "id": "XmT9OQcN8lz0"
      }
    },
    {
      "cell_type": "code",
      "source": [
        "%env WANDB_PROJECT=<your project name>\n",
        "%env WANDB_ENTITY=<your wandb username>"
      ],
      "metadata": {
        "id": "7BsVdHnDVV90"
      },
      "execution_count": null,
      "outputs": []
    },
    {
      "cell_type": "markdown",
      "source": [
        "# install a ton of stuff"
      ],
      "metadata": {
        "id": "Ejz5WFRI8bRJ"
      }
    },
    {
      "cell_type": "code",
      "execution_count": null,
      "metadata": {
        "id": "koMYDeG6B3Cj"
      },
      "outputs": [],
      "source": [
        "!pip install git+https://github.com/openai/CLIP.git"
      ]
    },
    {
      "cell_type": "code",
      "source": [
        "!git clone https://github.com/CompVis/taming-transformers.git"
      ],
      "metadata": {
        "id": "-mktF_1RCEho"
      },
      "execution_count": null,
      "outputs": []
    },
    {
      "cell_type": "code",
      "source": [
        "cd taming-transformers/"
      ],
      "metadata": {
        "id": "5wX8KoR7CI7m"
      },
      "execution_count": null,
      "outputs": []
    },
    {
      "cell_type": "code",
      "source": [
        "pip install -e ."
      ],
      "metadata": {
        "id": "cLJkbUlgCKYO"
      },
      "execution_count": null,
      "outputs": []
    },
    {
      "cell_type": "code",
      "source": [
        "!pip install datasets"
      ],
      "metadata": {
        "id": "Uvx9fACWS1Kn"
      },
      "execution_count": null,
      "outputs": []
    },
    {
      "cell_type": "code",
      "source": [
        "!pip install transformers"
      ],
      "metadata": {
        "id": "1zOwpnKZS6mB"
      },
      "execution_count": null,
      "outputs": []
    },
    {
      "cell_type": "code",
      "source": [
        "!pip install blobfile"
      ],
      "metadata": {
        "id": "xqiGYH6bWDbh"
      },
      "execution_count": null,
      "outputs": []
    },
    {
      "cell_type": "code",
      "source": [
        "!pip install OmegaConf"
      ],
      "metadata": {
        "id": "VSPOUauTWS-x"
      },
      "execution_count": null,
      "outputs": []
    },
    {
      "cell_type": "code",
      "source": [
        "!pip install einops"
      ],
      "metadata": {
        "id": "uiSchMqxWeZX"
      },
      "execution_count": null,
      "outputs": []
    },
    {
      "cell_type": "code",
      "source": [
        "!pip install pytorch_lightning"
      ],
      "metadata": {
        "id": "lpYSOQJUWldW"
      },
      "execution_count": null,
      "outputs": []
    },
    {
      "cell_type": "code",
      "source": [
        "!pip install kornia"
      ],
      "metadata": {
        "id": "E5KcnkwXXqZJ"
      },
      "execution_count": null,
      "outputs": []
    },
    {
      "cell_type": "code",
      "source": [
        "cd /content"
      ],
      "metadata": {
        "id": "BRwRx2sVFImR"
      },
      "execution_count": null,
      "outputs": []
    },
    {
      "cell_type": "code",
      "source": [
        "!git clone https://github.com/ChenWu98/cycle-diffusion.git"
      ],
      "metadata": {
        "id": "ocnuHDTQJVrm"
      },
      "execution_count": null,
      "outputs": []
    },
    {
      "cell_type": "code",
      "source": [
        "cd cycle-diffusion"
      ],
      "metadata": {
        "id": "69oBg-LUMBVc"
      },
      "execution_count": null,
      "outputs": []
    },
    {
      "cell_type": "code",
      "source": [
        "cd ckpts/\n"
      ],
      "metadata": {
        "id": "gxoH5YqwDUG2"
      },
      "execution_count": null,
      "outputs": []
    },
    {
      "cell_type": "code",
      "source": [
        "mkdir stable_diffusion\n"
      ],
      "metadata": {
        "id": "_SKu5aJrJuRn"
      },
      "execution_count": null,
      "outputs": []
    },
    {
      "cell_type": "markdown",
      "source": [
        "# You need a copy of sd-v1-4.ckpt (I save one in my google drive for this)"
      ],
      "metadata": {
        "id": "D9nVnqtR9lxq"
      }
    },
    {
      "cell_type": "code",
      "source": [
        "cp /content/drive/MyDrive/AI/models/sd-v1-4.ckpt /content/cycle-diffusion/ckpts/stable_diffusion"
      ],
      "metadata": {
        "id": "_M2pvg3yWxk1"
      },
      "execution_count": null,
      "outputs": []
    },
    {
      "cell_type": "code",
      "source": [],
      "metadata": {
        "id": "NpmQxajV9kaB"
      },
      "execution_count": null,
      "outputs": []
    },
    {
      "cell_type": "code",
      "source": [
        "cd /content/cycle-diffusion"
      ],
      "metadata": {
        "id": "fa6YbNrJMzCd"
      },
      "execution_count": null,
      "outputs": []
    },
    {
      "cell_type": "markdown",
      "source": [
        "# And generate our image"
      ],
      "metadata": {
        "id": "7yHfumautb6w"
      }
    },
    {
      "cell_type": "code",
      "source": [
        "!wget https://pbs.twimg.com/media/FfV8d2yXEAIgIKa?format=png"
      ],
      "metadata": {
        "id": "ZM2dzymC14yr"
      },
      "execution_count": null,
      "outputs": []
    },
    {
      "cell_type": "code",
      "source": [
        "#edit data/translate-text.json\n",
        "with open(\"/content/cycle-diffusion/data/translate-text.json\",'w') as f:\n",
        "  f.write(\"\"\"[\n",
        "    {\n",
        "        \"encode_text\": \"A photo of Barack Obama\",\n",
        "        \"decode_text\": \"A photo of Barack Obama smiling big grin\",\n",
        "        \"img_path\": \"/content/cycle-diffusion/FfV8d2yXEAIgIKa?format=png\"\n",
        "    }\n",
        "]\"\"\")"
      ],
      "metadata": {
        "id": "yERQf8FX3eQD"
      },
      "execution_count": null,
      "outputs": []
    },
    {
      "cell_type": "code",
      "source": [
        "with open(\"/content/cycle-diffusion/config/experiments/translate_text2img256_stable_diffusion_stochastic_custom_1.cfg\",'w') as f:\n",
        "  f.write(\"\"\"[model]\n",
        "name = text_unsupervised_translation\n",
        "\n",
        "[gan]\n",
        "gan_type = SDStochasticText\n",
        "source_model_type = sd-v1-4.ckpt\n",
        "custom_steps = 99\n",
        "white_box_steps = 100\n",
        "eta = 0.1\n",
        "encoder_unconditional_guidance_scales = [1]\n",
        "#this is how strongly the prompt will effect the image (3-5-ish is a good value)\n",
        "decoder_unconditional_guidance_scales = [3]\n",
        "#increase number of generations (only the best will be output)\n",
        "n_trials = 1\n",
        "#how may diffusion steps to skip (higher=fine grained changes only)\n",
        "skip_steps = [10]\n",
        "\n",
        "[raw_data]\n",
        "upsample_temp = 1\n",
        "#don't change this!\n",
        "range = [0, 500]\n",
        "\n",
        "[arg_paths]\n",
        "translate = tasks/translate_text512.cfg\n",
        "\n",
        "[PriorZEnergy]\n",
        "weight = 1\n",
        "\n",
        "[evaluation]\n",
        "evaluator_program = multi_task\n",
        "\n",
        "[visualization]\n",
        "visualizer_program = multi_image\"\"\")"
      ],
      "metadata": {
        "id": "6Uf3qsJXhRvI"
      },
      "execution_count": null,
      "outputs": []
    },
    {
      "cell_type": "code",
      "source": [
        "%env CUDA_VISIBLE_DEVICES=0\n",
        "%env RUN_NAME=translate_text2img256_stable_diffusion_stochastic_custom_1\n",
        "%env SEED=42\n",
        "!python -m torch.distributed.launch --nproc_per_node 1 --master_port 1405 main.py --seed $SEED \\\n",
        " --cfg experiments/$RUN_NAME.cfg \\\n",
        " --run_name $RUN_NAME$SEED \\\n",
        " --logging_strategy steps \\\n",
        " --logging_first_step true \\\n",
        " --logging_steps 4 \\\n",
        " --evaluation_strategy steps \\\n",
        " --eval_steps 50 \\\n",
        " --metric_for_best_model CLIPEnergy \\\n",
        " --greater_is_better false \\\n",
        " --save_strategy steps \\\n",
        " --save_steps 50 \\\n",
        " --save_total_limit 1 \\\n",
        " --load_best_model_at_end \\\n",
        " --gradient_accumulation_steps 4 \\\n",
        " --num_train_epochs 0 \\\n",
        " --adafactor false \\\n",
        " --learning_rate 1e-3 \\\n",
        " --do_eval \\\n",
        " --output_dir output/$RUN_NAME$SEED \\\n",
        " --overwrite_output_dir \\\n",
        " --per_device_train_batch_size 1 \\\n",
        " --per_device_eval_batch_size 4 \\\n",
        " --eval_accumulation_steps 4 \\\n",
        " --ddp_find_unused_parameters true \\\n",
        " --verbose true"
      ],
      "metadata": {
        "id": "rhGeAmtWtRaJ"
      },
      "execution_count": null,
      "outputs": []
    }
  ]
}